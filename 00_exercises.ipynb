{
 "cells": [
  {
   "cell_type": "markdown",
   "metadata": {},
   "source": [
    "### 1. Create a random tensor with shape (7, 7)"
   ]
  },
  {
   "cell_type": "code",
   "execution_count": 6,
   "metadata": {},
   "outputs": [
    {
     "data": {
      "text/plain": [
       "'mps'"
      ]
     },
     "execution_count": 6,
     "metadata": {},
     "output_type": "execute_result"
    }
   ],
   "source": [
    "import torch\n",
    "device = \"mps\" if torch.backends.mps.is_available() else \"cpu\"\n",
    "device"
   ]
  },
  {
   "cell_type": "code",
   "execution_count": 1,
   "metadata": {},
   "outputs": [
    {
     "data": {
      "text/plain": [
       "tensor([[9.3479e-01, 6.7800e-01, 2.3120e-01, 1.9342e-01, 5.3096e-01, 5.4638e-01,\n",
       "         5.2512e-01],\n",
       "        [9.4686e-01, 6.0252e-01, 7.9556e-01, 6.1765e-01, 8.8428e-01, 6.2534e-01,\n",
       "         1.9815e-01],\n",
       "        [7.6417e-01, 7.1609e-01, 9.1243e-04, 9.8395e-01, 5.4021e-01, 8.1691e-01,\n",
       "         2.7449e-01],\n",
       "        [4.0338e-01, 2.9568e-01, 6.7460e-01, 8.6250e-01, 2.9857e-01, 8.9737e-01,\n",
       "         2.8740e-01],\n",
       "        [7.0391e-01, 1.3548e-01, 3.8050e-02, 4.5830e-01, 1.2010e-01, 8.8201e-01,\n",
       "         8.7333e-01],\n",
       "        [2.2861e-01, 4.0395e-01, 6.9191e-01, 5.1021e-01, 6.1915e-01, 1.8140e-01,\n",
       "         3.8737e-01],\n",
       "        [6.1494e-03, 8.7480e-01, 5.1443e-01, 9.5532e-01, 2.7301e-01, 4.8462e-01,\n",
       "         9.1453e-01]])"
      ]
     },
     "execution_count": 1,
     "metadata": {},
     "output_type": "execute_result"
    }
   ],
   "source": [
    "x = torch.rand(size=(7, 7))\n",
    "x"
   ]
  },
  {
   "cell_type": "markdown",
   "metadata": {},
   "source": [
    "### 2. Perform a matrix multiplication with tensor `x` and another random tensor, `y`, with shape (1, 7)"
   ]
  },
  {
   "cell_type": "code",
   "execution_count": 7,
   "metadata": {},
   "outputs": [
    {
     "data": {
      "text/plain": [
       "tensor([[0.1954, 0.6752, 0.1897, 0.5014, 0.4376, 0.3033, 0.4275]])"
      ]
     },
     "execution_count": 7,
     "metadata": {},
     "output_type": "execute_result"
    }
   ],
   "source": [
    "y = torch.rand(size=(1, 7))\n",
    "y"
   ]
  },
  {
   "cell_type": "code",
   "execution_count": 8,
   "metadata": {},
   "outputs": [
    {
     "data": {
      "text/plain": [
       "tensor([[1.4038],\n",
       "        [1.7138],\n",
       "        [1.7279],\n",
       "        [1.3646],\n",
       "        [1.1594],\n",
       "        [1.1961],\n",
       "        [1.8259]])"
      ]
     },
     "execution_count": 8,
     "metadata": {},
     "output_type": "execute_result"
    }
   ],
   "source": [
    "z = torch.matmul(x, y.T)\n",
    "z"
   ]
  },
  {
   "cell_type": "markdown",
   "metadata": {},
   "source": [
    "### 3. Set a random seed and repeat exercises 1 and 2"
   ]
  },
  {
   "cell_type": "code",
   "execution_count": 10,
   "metadata": {},
   "outputs": [
    {
     "data": {
      "text/plain": [
       "tensor([[1.8542],\n",
       "        [1.9611],\n",
       "        [2.2884],\n",
       "        [3.0481],\n",
       "        [1.7067],\n",
       "        [2.5290],\n",
       "        [1.7989]])"
      ]
     },
     "execution_count": 10,
     "metadata": {},
     "output_type": "execute_result"
    }
   ],
   "source": [
    "RANDOM_SEED = 0\n",
    "torch.manual_seed(RANDOM_SEED)\n",
    "\n",
    "x = torch.rand(size=(7, 7))\n",
    "y = torch.rand(size=(1, 7))\n",
    "z = torch.matmul(x, y.T)\n",
    "z"
   ]
  },
  {
   "cell_type": "markdown",
   "metadata": {},
   "source": [
    "### 4. Set the random seed, but for the GPU you're currently using"
   ]
  },
  {
   "cell_type": "code",
   "execution_count": 13,
   "metadata": {},
   "outputs": [],
   "source": [
    "RANDOM_SEED_GPU = 1234\n",
    "torch.mps.manual_seed(RANDOM_SEED_GPU)"
   ]
  },
  {
   "cell_type": "markdown",
   "metadata": {},
   "source": [
    "### 5. Create two random tensors of shape (2, 3) and send the mboth to the GPU. Set `torch.manual_seed(1234)` when creating the tensors."
   ]
  },
  {
   "cell_type": "code",
   "execution_count": 14,
   "metadata": {},
   "outputs": [
    {
     "data": {
      "text/plain": [
       "(tensor([[0.0290, 0.4019, 0.2598],\n",
       "         [0.3666, 0.0583, 0.7006]], device='mps:0'),\n",
       " device(type='mps', index=0),\n",
       " tensor([[0.0518, 0.4681, 0.6738],\n",
       "         [0.3315, 0.7837, 0.5631]], device='mps:0'),\n",
       " device(type='mps', index=0))"
      ]
     },
     "execution_count": 14,
     "metadata": {},
     "output_type": "execute_result"
    }
   ],
   "source": [
    "RANDOM_SEED = 1234\n",
    "torch.manual_seed(RANDOM_SEED)\n",
    "\n",
    "x = torch.rand(size=(2, 3)).to(device)\n",
    "y = torch.rand(size=(2, 3)).to(device)\n",
    "x, x.device, y, y.device"
   ]
  },
  {
   "cell_type": "markdown",
   "metadata": {},
   "source": [
    "### 6. Perform a matrix multiplication of tensors from 5."
   ]
  },
  {
   "cell_type": "code",
   "execution_count": 16,
   "metadata": {},
   "outputs": [
    {
     "data": {
      "text/plain": [
       "tensor([[0.3647, 0.4709],\n",
       "        [0.5184, 0.5617]], device='mps:0')"
      ]
     },
     "execution_count": 16,
     "metadata": {},
     "output_type": "execute_result"
    }
   ],
   "source": [
    "z = torch.matmul(x, y.T)\n",
    "z"
   ]
  },
  {
   "cell_type": "markdown",
   "metadata": {},
   "source": [
    "### 7. Find the max and min values for ouput of 6"
   ]
  },
  {
   "cell_type": "code",
   "execution_count": 17,
   "metadata": {},
   "outputs": [
    {
     "data": {
      "text/plain": [
       "(tensor(0.3647, device='mps:0'), tensor(0.5617, device='mps:0'))"
      ]
     },
     "execution_count": 17,
     "metadata": {},
     "output_type": "execute_result"
    }
   ],
   "source": [
    "z.min(), z.max()"
   ]
  },
  {
   "cell_type": "markdown",
   "metadata": {},
   "source": [
    "### 8. Find min and max indexes for ouput of 6"
   ]
  },
  {
   "cell_type": "code",
   "execution_count": 18,
   "metadata": {},
   "outputs": [
    {
     "data": {
      "text/plain": [
       "(tensor(0, device='mps:0'), tensor(3, device='mps:0'))"
      ]
     },
     "execution_count": 18,
     "metadata": {},
     "output_type": "execute_result"
    }
   ],
   "source": [
    "z.argmin(), z.argmax()"
   ]
  },
  {
   "cell_type": "markdown",
   "metadata": {},
   "source": [
    "### 9. Make a random tensor with shape `(1, 1, 1, 10)` and then create a new tensor with all the dimensions `1` removed to be left with tensor of shape `(10)`. Set the seed to `7` when you create and print out the first tensor and it's shape as well as the second tensor and it's shape."
   ]
  },
  {
   "cell_type": "code",
   "execution_count": 19,
   "metadata": {},
   "outputs": [
    {
     "data": {
      "text/plain": [
       "(tensor([[[[0.5349, 0.1988, 0.6592, 0.6569, 0.2328, 0.4251, 0.2071, 0.6297,\n",
       "            0.3653, 0.8513]]]]),\n",
       " torch.Size([1, 1, 1, 10]),\n",
       " tensor([0.5349, 0.1988, 0.6592, 0.6569, 0.2328, 0.4251, 0.2071, 0.6297, 0.3653,\n",
       "         0.8513]),\n",
       " torch.Size([10]))"
      ]
     },
     "execution_count": 19,
     "metadata": {},
     "output_type": "execute_result"
    }
   ],
   "source": [
    "RANDOM_SEED = 7\n",
    "torch.manual_seed(RANDOM_SEED)\n",
    "\n",
    "x = torch.rand(size=(1, 1, 1, 10))\n",
    "y = x.squeeze()\n",
    "x, x.shape, y, y.shape"
   ]
  }
 ],
 "metadata": {
  "kernelspec": {
   "display_name": "pytorch",
   "language": "python",
   "name": "python3"
  },
  "language_info": {
   "codemirror_mode": {
    "name": "ipython",
    "version": 3
   },
   "file_extension": ".py",
   "mimetype": "text/x-python",
   "name": "python",
   "nbconvert_exporter": "python",
   "pygments_lexer": "ipython3",
   "version": "3.11.6"
  }
 },
 "nbformat": 4,
 "nbformat_minor": 2
}
