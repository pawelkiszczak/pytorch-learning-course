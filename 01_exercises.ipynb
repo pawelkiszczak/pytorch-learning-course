{
 "cells": [
  {
   "cell_type": "markdown",
   "metadata": {},
   "source": [
    "## 1. Create a straight line dataset using linear regression formula (`weight * X + bias`)"
   ]
  },
  {
   "cell_type": "code",
   "execution_count": 31,
   "metadata": {},
   "outputs": [
    {
     "data": {
      "text/plain": [
       "'mps'"
      ]
     },
     "execution_count": 31,
     "metadata": {},
     "output_type": "execute_result"
    }
   ],
   "source": [
    "# Setup code agnostic params\n",
    "import torch\n",
    "device = \"mps\" if torch.backends.mps.is_available() else \"cpu\"\n",
    "device"
   ]
  },
  {
   "cell_type": "markdown",
   "metadata": {},
   "source": [
    "Set `weight=0.3` and `bias=0.9`, there should be at leaset 100 datapoints in total."
   ]
  },
  {
   "cell_type": "code",
   "execution_count": 36,
   "metadata": {},
   "outputs": [
    {
     "data": {
      "text/plain": [
       "(200, 200)"
      ]
     },
     "execution_count": 36,
     "metadata": {},
     "output_type": "execute_result"
    }
   ],
   "source": [
    "weight = 0.3\n",
    "bias = 0.9\n",
    "\n",
    "start = 0\n",
    "end = 5\n",
    "step = 0.025\n",
    "\n",
    "X = torch.arange(start, end, step)\n",
    "y = weight * X + bias\n",
    "\n",
    "len(X), len(y)"
   ]
  },
  {
   "cell_type": "markdown",
   "metadata": {},
   "source": [
    "Split the data into 80/20 training and test sets"
   ]
  },
  {
   "cell_type": "code",
   "execution_count": 37,
   "metadata": {},
   "outputs": [
    {
     "data": {
      "text/plain": [
       "(160, 160, 40, 40)"
      ]
     },
     "execution_count": 37,
     "metadata": {},
     "output_type": "execute_result"
    }
   ],
   "source": [
    "train_split = int(0.8*len(X))\n",
    "X_train, y_train = X[:train_split], y[:train_split]\n",
    "X_test, y_test = X[train_split:], y[train_split:]\n",
    "\n",
    "len(X_train), len(y_train), len(X_test), len(y_test)"
   ]
  },
  {
   "cell_type": "markdown",
   "metadata": {},
   "source": [
    "Plot training and test data"
   ]
  },
  {
   "cell_type": "code",
   "execution_count": 38,
   "metadata": {},
   "outputs": [],
   "source": [
    "import matplotlib.pyplot as plt\n",
    "\n",
    "def plot_predictions(X_train=X_train,\n",
    "\t\t\t\t\t y_train=y_train,\n",
    "\t\t\t\t\t X_test=X_test,\n",
    "\t\t\t\t\t y_test=y_test,\n",
    "\t\t\t\t\t predictions=None):\n",
    "\t\n",
    "\tplt.figure(figsize=(10,7))\n",
    "\tplt.scatter(x=X_train, y=y_train, c='b', s=4, label='Training data')\n",
    "\tplt.scatter(x=X_test, y=y_test, c='g', s=4, label='Test data')\n",
    "\tif predictions is not None:\n",
    "\t\tplt.scatter(x=X_test, y=predictions, c='r', s=7, label=\"Predictions\")\n",
    "\t\n",
    "\tplt.legend()"
   ]
  },
  {
   "cell_type": "code",
   "execution_count": 39,
   "metadata": {},
   "outputs": [
    {
     "data": {
      "image/png": "[encoded data removed]",
      "text/plain": [
       "<Figure size 1000x700 with 1 Axes>"
      ]
     },
     "metadata": {},
     "output_type": "display_data"
    }
   ],
   "source": [
    "plot_predictions()"
   ]
  },
  {
   "cell_type": "markdown",
   "metadata": {},
   "source": [
    "## 2. Build a PyTorch model by subclassing `nn.Module`"
   ]
  },
  {
   "cell_type": "markdown",
   "metadata": {},
   "source": [
    "Inside should be a randomly initialized `nn.Parameter()` with `requires_grad=True`, one for `weights` and one for `bias`.\n",
    "\n",
    "Implement `forward()` method to compute the linear regression function you've used to create dataset in exercise 1."
   ]
  },
  {
   "cell_type": "code",
   "execution_count": 40,
   "metadata": {},
   "outputs": [],
   "source": [
    "from torch import nn\n",
    "\n",
    "class LinearRegressionExercise(nn.Module):\n",
    "\tdef __init__(self):\n",
    "\t\tsuper().__init__()\n",
    "\t\tself.weights = nn.Parameter(torch.randn(1,\n",
    "\t\t\t\t\t\t\t\t\t\t  requires_grad=True,\n",
    "\t\t\t\t\t\t\t\t\t\t  dtype=torch.float))\n",
    "\t\tself.bias = nn.Parameter(torch.randn(1, \n",
    "\t\t\t\t\t\t\t\t\trequires_grad=True,\n",
    "\t\t\t\t\t\t\t\t\tdtype=torch.float))\n",
    "\t\t\n",
    "\tdef forward(self, x: torch.Tensor) -> torch.Tensor:\n",
    "\t\treturn self.weights * x + self.bias"
   ]
  },
  {
   "cell_type": "code",
   "execution_count": 41,
   "metadata": {},
   "outputs": [
    {
     "data": {
      "text/plain": [
       "(LinearRegressionExercise(),\n",
       " OrderedDict([('weights', tensor([-1.6607])), ('bias', tensor([-1.3443]))]))"
      ]
     },
     "execution_count": 41,
     "metadata": {},
     "output_type": "execute_result"
    }
   ],
   "source": [
    "model = LinearRegressionExercise()\n",
    "model, model.state_dict()"
   ]
  },
  {
   "cell_type": "markdown",
   "metadata": {},
   "source": [
    "## 3. Create a loss function and optimizer using `nn.L1Loss()` and `torch.optim.SGD(params, lr)` respectively."
   ]
  },
  {
   "cell_type": "markdown",
   "metadata": {},
   "source": [
    "Set the learning rate of the optimizer to be 0.01 and the parameters to optimize should be the model params from the model that's been created in 2."
   ]
  },
  {
   "cell_type": "code",
   "execution_count": 42,
   "metadata": {},
   "outputs": [],
   "source": [
    "LR = 0.01\n",
    "PARAMS = model.parameters()\n",
    "\n",
    "loss_fn = torch.nn.L1Loss()\n",
    "optimizer = torch.optim.SGD(params=PARAMS, lr=LR)"
   ]
  },
  {
   "cell_type": "markdown",
   "metadata": {},
   "source": [
    "Write a training loop to perform the training for 300 epochs.\n",
    "\n",
    "The training loop should test the model on the test dataset every 20 epochs."
   ]
  },
  {
   "cell_type": "code",
   "execution_count": 43,
   "metadata": {},
   "outputs": [
    {
     "name": "stdout",
     "output_type": "stream",
     "text": [
      "Epoch: 0 | Loss: 6.1411895751953125 | Test loss: 10.943739891052246\n",
      "Epoch: 20 | Loss: 5.151156902313232 | Test loss: 8.959954261779785\n",
      "Epoch: 40 | Loss: 4.1611247062683105 | Test loss: 6.976171016693115\n",
      "Epoch: 60 | Loss: 3.171093702316284 | Test loss: 4.992391109466553\n",
      "Epoch: 80 | Loss: 2.181062698364258 | Test loss: 3.0086100101470947\n",
      "Epoch: 100 | Loss: 1.191031813621521 | Test loss: 1.0248291492462158\n",
      "Epoch: 120 | Loss: 0.4472041130065918 | Test loss: 0.5266702175140381\n",
      "Epoch: 140 | Loss: 0.4079379141330719 | Test loss: 0.6184977889060974\n",
      "Epoch: 160 | Loss: 0.3772473633289337 | Test loss: 0.5828571915626526\n",
      "Epoch: 180 | Loss: 0.34661903977394104 | Test loss: 0.5356431007385254\n",
      "Epoch: 200 | Loss: 0.3159894049167633 | Test loss: 0.4884292185306549\n",
      "Epoch: 220 | Loss: 0.28535863757133484 | Test loss: 0.44121524691581726\n",
      "Epoch: 240 | Loss: 0.25472888350486755 | Test loss: 0.39234787225723267\n",
      "Epoch: 260 | Loss: 0.22410058975219727 | Test loss: 0.34513401985168457\n",
      "Epoch: 280 | Loss: 0.1934722512960434 | Test loss: 0.29791995882987976\n",
      "Epoch: 300 | Loss: 0.16284345090389252 | Test loss: 0.2507062554359436\n"
     ]
    }
   ],
   "source": [
    "EPOCHS = 300\n",
    "\n",
    "model.to(device)\n",
    "\n",
    "for epoch in range(EPOCHS+1):\n",
    "\t### TRAINING\n",
    "\t# Set the model to training mode\n",
    "\tmodel.train()\n",
    "\n",
    "\t# Transfer data to device\n",
    "\tX_train = X_train.to(device)\n",
    "\ty_train = y_train.to(device)\n",
    "\tX_test = X_test.to(device)\n",
    "\ty_test = y_test.to(device)\n",
    "\n",
    "\t# Make the forward pass\n",
    "\ty_pred = model(X_train)\n",
    "\n",
    "\t# Calculate the loss\n",
    "\tloss = loss_fn(y_pred, y_train)\n",
    "\n",
    "\t# Optimizer zero grad\n",
    "\toptimizer.zero_grad()\n",
    "\n",
    "\t# Backpropagation\n",
    "\tloss.backward()\n",
    "\n",
    "\t# Optimizer step\n",
    "\toptimizer.step()\n",
    "\n",
    "\t### TESTING\n",
    "\t# Set model to eval mode\n",
    "\tmodel.eval()\n",
    "\n",
    "\twith torch.inference_mode():\n",
    "\t\ttest_pred = model(X_test)\n",
    "\t\ttest_loss = loss_fn(test_pred, y_test)\n",
    "\n",
    "\t# Print training info each 20 epochs\n",
    "\tif epoch % 20 == 0:\n",
    "\t\tprint(f\"Epoch: {epoch} | Loss: {loss} | Test loss: {test_loss}\")"
   ]
  },
  {
   "cell_type": "markdown",
   "metadata": {},
   "source": [
    "## 4. Make predictions with the trained model on the test data"
   ]
  },
  {
   "cell_type": "code",
   "execution_count": 45,
   "metadata": {},
   "outputs": [
    {
     "data": {
      "text/plain": [
       "tensor([2.2814, 2.2925, 2.3035, 2.3146, 2.3256], device='mps:0')"
      ]
     },
     "execution_count": 45,
     "metadata": {},
     "output_type": "execute_result"
    }
   ],
   "source": [
    "model.eval()\n",
    "with torch.inference_mode():\n",
    "\ty_preds = model(X_test)\n",
    "\n",
    "y_preds[:5]"
   ]
  },
  {
   "cell_type": "markdown",
   "metadata": {},
   "source": [
    "Visualize the predictions against the original training and testing data"
   ]
  },
  {
   "cell_type": "code",
   "execution_count": 46,
   "metadata": {},
   "outputs": [
    {
     "data": {
      "image/png": "[encoded data removed]",
      "text/plain": [
       "<Figure size 1000x700 with 1 Axes>"
      ]
     },
     "metadata": {},
     "output_type": "display_data"
    }
   ],
   "source": [
    "plot_predictions(predictions=y_preds.cpu())"
   ]
  },
  {
   "cell_type": "markdown",
   "metadata": {},
   "source": [
    "## 5. Save trained model's `state_dict()` to file"
   ]
  },
  {
   "cell_type": "code",
   "execution_count": 48,
   "metadata": {},
   "outputs": [
    {
     "name": "stdout",
     "output_type": "stream",
     "text": [
      "Saving model 01_pytorch_worflow_model_exercises.pth to models/01_pytorch_worflow_model_exercises.pth\n"
     ]
    }
   ],
   "source": [
    "from pathlib import Path\n",
    "\n",
    "# Create paths for model to be saved\n",
    "MODEL_PATH = Path(\"models\")\n",
    "MODEL_PATH.mkdir(parents=True, exist_ok=True)\n",
    "\n",
    "MODEL_NAME = \"01_pytorch_worflow_model_exercises.pth\"\n",
    "MODEL_SAVE_PATH = MODEL_PATH / MODEL_NAME\n",
    "\n",
    "# Save the model\n",
    "print(f\"Saving model {MODEL_NAME} to {MODEL_SAVE_PATH}\")\n",
    "torch.save(obj=model.state_dict(),\n",
    "\t\t   f=MODEL_SAVE_PATH)"
   ]
  },
  {
   "cell_type": "markdown",
   "metadata": {},
   "source": [
    "Create a new instance of earlier created model class and load in the `state_dict()` that's just been saved"
   ]
  },
  {
   "cell_type": "code",
   "execution_count": 50,
   "metadata": {},
   "outputs": [
    {
     "data": {
      "text/plain": [
       "(LinearRegressionExercise(),\n",
       " OrderedDict([('weights', tensor([0.4421])), ('bias', tensor([0.5131]))]),\n",
       " OrderedDict([('weights', tensor([0.4421], device='mps:0')),\n",
       "              ('bias', tensor([0.5131], device='mps:0'))]))"
      ]
     },
     "execution_count": 50,
     "metadata": {},
     "output_type": "execute_result"
    }
   ],
   "source": [
    "loaded_model = LinearRegressionExercise()\n",
    "loaded_model.load_state_dict(torch.load(f=MODEL_SAVE_PATH))\n",
    "loaded_model, loaded_model.state_dict(), model.state_dict()"
   ]
  },
  {
   "cell_type": "markdown",
   "metadata": {},
   "source": [
    "Perform prediction on test data with loaded model and confirm they match the original"
   ]
  },
  {
   "cell_type": "code",
   "execution_count": 54,
   "metadata": {},
   "outputs": [
    {
     "data": {
      "text/plain": [
       "tensor([True, True, True, True, True, True, True, True, True, True, True, True,\n",
       "        True, True, True, True, True, True, True, True, True, True, True, True,\n",
       "        True, True, True, True, True, True, True, True, True, True, True, True,\n",
       "        True, True, True, True], device='mps:0')"
      ]
     },
     "execution_count": 54,
     "metadata": {},
     "output_type": "execute_result"
    }
   ],
   "source": [
    "loaded_model.to(device)\n",
    "loaded_model.eval()\n",
    "with torch.inference_mode():\n",
    "\ty_preds_loaded = loaded_model(X_test)\n",
    "\n",
    "y_preds_loaded == y_preds"
   ]
  }
 ],
 "metadata": {
  "kernelspec": {
   "display_name": "pytorch",
   "language": "python",
   "name": "python3"
  },
  "language_info": {
   "codemirror_mode": {
    "name": "ipython",
    "version": 3
   },
   "file_extension": ".py",
   "mimetype": "text/x-python",
   "name": "python",
   "nbconvert_exporter": "python",
   "pygments_lexer": "ipython3",
   "version": "3.11.6"
  }
 },
 "nbformat": 4,
 "nbformat_minor": 2
}
