{
 "cells": [
  {
   "cell_type": "markdown",
   "metadata": {},
   "source": [
    "# PyTorch Workflow - end-to-end"
   ]
  },
  {
   "cell_type": "code",
   "execution_count": 2,
   "metadata": {},
   "outputs": [],
   "source": [
    "import torch\n",
    "device = \"mps\" if torch.backends.mps.is_available() else \"cpu\""
   ]
  },
  {
   "cell_type": "code",
   "execution_count": 3,
   "metadata": {},
   "outputs": [
    {
     "data": {
      "text/plain": [
       "{1: 'data (prepare and load)',\n",
       " 2: 'build model',\n",
       " 3: 'fitting the model to data (training)',\n",
       " 4: 'make predictions and evaluate a model (inference)',\n",
       " 5: 'saving and loading a model',\n",
       " 6: 'putting it all together'}"
      ]
     },
     "execution_count": 3,
     "metadata": {},
     "output_type": "execute_result"
    }
   ],
   "source": [
    "what_were_covering = {\n",
    "\t1: \"data (prepare and load)\",\n",
    "\t2: \"build model\",\n",
    "\t3: \"fitting the model to data (training)\",\n",
    "\t4: \"make predictions and evaluate a model (inference)\",\n",
    "\t5: \"saving and loading a model\",\n",
    "\t6: \"putting it all together\"\n",
    "}\n",
    "\n",
    "what_were_covering"
   ]
  },
  {
   "cell_type": "code",
   "execution_count": 8,
   "metadata": {},
   "outputs": [
    {
     "data": {
      "text/plain": [
       "'2.0.0.post3'"
      ]
     },
     "execution_count": 8,
     "metadata": {},
     "output_type": "execute_result"
    }
   ],
   "source": [
    "import torch\n",
    "from torch import nn ## \"nn\" contains all the building blocks for neural networks\n",
    "import matplotlib.pyplot as plt\n",
    "\n",
    "# Check PyTorch version\n",
    "torch.__version__"
   ]
  },
  {
   "cell_type": "markdown",
   "metadata": {},
   "source": [
    "## 1. Data (preparing and loading)"
   ]
  },
  {
   "cell_type": "code",
   "execution_count": 3,
   "metadata": {},
   "outputs": [
    {
     "data": {
      "text/plain": [
       "(tensor([[0.0000],\n",
       "         [0.0200],\n",
       "         [0.0400],\n",
       "         [0.0600],\n",
       "         [0.0800]]),\n",
       " tensor([[0.3000],\n",
       "         [0.3140],\n",
       "         [0.3280],\n",
       "         [0.3420],\n",
       "         [0.3560]]))"
      ]
     },
     "execution_count": 3,
     "metadata": {},
     "output_type": "execute_result"
    }
   ],
   "source": [
    "# Create parameters for artificial dataset\n",
    "weight = 0.7\n",
    "bias = 0.3\n",
    "\n",
    "# Creata data\n",
    "start = 0\n",
    "end = 1\n",
    "step = 0.02\n",
    "\n",
    "X = torch.arange(start, end, step).unsqueeze(dim=1)\n",
    "y = weight * X + bias\n",
    "\n",
    "X[:5], y[:5]"
   ]
  },
  {
   "cell_type": "markdown",
   "metadata": {},
   "source": [
    "### Splitting in train and test sets"
   ]
  },
  {
   "cell_type": "code",
   "execution_count": 4,
   "metadata": {},
   "outputs": [
    {
     "data": {
      "text/plain": [
       "40"
      ]
     },
     "execution_count": 4,
     "metadata": {},
     "output_type": "execute_result"
    }
   ],
   "source": [
    "# Create train/test split\n",
    "train_split = int(0.8 * len(X))\n",
    "train_split"
   ]
  },
  {
   "cell_type": "code",
   "execution_count": 5,
   "metadata": {},
   "outputs": [
    {
     "data": {
      "text/plain": [
       "(40, 40, 10, 10)"
      ]
     },
     "execution_count": 5,
     "metadata": {},
     "output_type": "execute_result"
    }
   ],
   "source": [
    "X_train, y_train = X[:train_split], y[:train_split]\n",
    "X_test, y_test = X[train_split:], y[train_split:]\n",
    "\n",
    "len(X_train), len(y_train), len(X_test), len(y_test)"
   ]
  },
  {
   "cell_type": "code",
   "execution_count": 6,
   "metadata": {},
   "outputs": [],
   "source": [
    "# Visualizing the data\n",
    "def plot_predictions(train_data=X_train,\n",
    "\t\t\t\t\t train_labels=y_train,\n",
    "\t\t\t\t\t test_data=X_test,\n",
    "\t\t\t\t\t test_labels=y_test,\n",
    "\t\t\t\t\t predictions=None):\n",
    "\t\"\"\"\n",
    "\tPlots training data, test data and compares predictions.\n",
    "\t\"\"\"\n",
    "\tplt.figure(figsize=(10, 7))\n",
    "\n",
    "\t# Training data in blue\n",
    "\tplt.scatter(train_data, train_labels, c='b', s=6, label='Training data')\n",
    "\tplt.scatter(test_data, test_labels, c='g', s=6, label='Testing data')\n",
    "\n",
    "\tif predictions is not None:\n",
    "\t\tplt.scatter(test_data, predictions, c='r', s=6, label='Predictions')\n",
    "\n",
    "\tplt.legend(prop={'size': 14})"
   ]
  },
  {
   "cell_type": "code",
   "execution_count": 18,
   "metadata": {},
   "outputs": [
    {
     "data": {
      "image/png": "[encoded data removed]",
      "text/plain": [
       "<Figure size 1000x700 with 1 Axes>"
      ]
     },
     "metadata": {},
     "output_type": "display_data"
    }
   ],
   "source": [
    "plot_predictions()"
   ]
  },
  {
   "cell_type": "markdown",
   "metadata": {},
   "source": [
    "## 2. Build model"
   ]
  },
  {
   "cell_type": "code",
   "execution_count": 9,
   "metadata": {},
   "outputs": [],
   "source": [
    "# Create linear regresion model class\n",
    "class LinearRegressionModel(nn.Module): # <- almost everything inherits from nn.Module\n",
    "\tdef __init__(self):\n",
    "\t\tsuper().__init__()\n",
    "\t\tself.weights = nn.Parameter(torch.randn(1, \n",
    "\t\t\t\t\t\t\t\t\t\t  requires_grad=True,\n",
    "\t\t\t\t\t\t\t\t\t\t  dtype=torch.float))\n",
    "\t\tself.bias = nn.Parameter(torch.randn(1,\n",
    "\t\t\t\t\t\t\t\t\t\t\t requires_grad=True,\n",
    "\t\t\t\t\t\t\t\t\t\t\t dtype=torch.float))\n",
    "\tdef forward(self, x: torch.Tensor) -> torch.Tensor: # <- \"x\" is the input data\n",
    "\t\treturn self.weights * x + self.bias\n"
   ]
  },
  {
   "cell_type": "markdown",
   "metadata": {},
   "source": [
    "### PyTorch building essentials\n",
    "* `torch.nn` contains all of the building blocks for computational grapsh (another name for neural networks)\n",
    "* `torch.nn.Parameter` is what parameters should our model try and learn\n",
    "* `torch.nn.Module` is base class for all neural network modules, if you subclass it you should override `forward()`\n",
    "* `torch.optim` is place where optimizers in PyTorch live, they will help with gradient descent\n",
    "* `def forward()` is needed as `nn.Module()` requires to override this method since it defines what happens in the forward computation "
   ]
  },
  {
   "cell_type": "code",
   "execution_count": 11,
   "metadata": {},
   "outputs": [
    {
     "data": {
      "text/plain": [
       "[Parameter containing:\n",
       " tensor([0.3367], requires_grad=True),\n",
       " Parameter containing:\n",
       " tensor([0.1288], requires_grad=True)]"
      ]
     },
     "execution_count": 11,
     "metadata": {},
     "output_type": "execute_result"
    }
   ],
   "source": [
    "# Checking the content of the PyTorch model\n",
    "# Set the random seed\n",
    "torch.manual_seed(42)\n",
    "\n",
    "# Create an instance of the model\n",
    "model_0 = LinearRegressionModel()\n",
    "\n",
    "# Check out the parameters\n",
    "list(model_0.parameters())"
   ]
  },
  {
   "cell_type": "code",
   "execution_count": 98,
   "metadata": {},
   "outputs": [
    {
     "data": {
      "text/plain": [
       "OrderedDict([('weights', tensor([0.3367])), ('bias', tensor([0.1288]))])"
      ]
     },
     "execution_count": 98,
     "metadata": {},
     "output_type": "execute_result"
    }
   ],
   "source": [
    "# List named parameters\n",
    "model_0.state_dict()"
   ]
  },
  {
   "cell_type": "markdown",
   "metadata": {},
   "source": [
    "### Making predictions using `torch.inference_mode()`\n",
    "When the data is passed through the model, it's going to run through the `forward()` method."
   ]
  },
  {
   "cell_type": "code",
   "execution_count": 28,
   "metadata": {},
   "outputs": [
    {
     "data": {
      "text/plain": [
       "tensor([[0.3982],\n",
       "        [0.4049],\n",
       "        [0.4116],\n",
       "        [0.4184],\n",
       "        [0.4251],\n",
       "        [0.4318],\n",
       "        [0.4386],\n",
       "        [0.4453],\n",
       "        [0.4520],\n",
       "        [0.4588]])"
      ]
     },
     "execution_count": 28,
     "metadata": {},
     "output_type": "execute_result"
    }
   ],
   "source": [
    "# Make predictions\n",
    "with torch.inference_mode():\n",
    "\ty_preds = model_0(X_test)\n",
    "\n",
    "y_preds"
   ]
  },
  {
   "cell_type": "code",
   "execution_count": 29,
   "metadata": {},
   "outputs": [
    {
     "data": {
      "image/png": "[encoded data removed]",
      "text/plain": [
       "<Figure size 1000x700 with 1 Axes>"
      ]
     },
     "metadata": {},
     "output_type": "display_data"
    }
   ],
   "source": [
    "plot_predictions(predictions=y_preds)"
   ]
  },
  {
   "cell_type": "markdown",
   "metadata": {},
   "source": [
    "## 3. Train model"
   ]
  },
  {
   "cell_type": "markdown",
   "metadata": {},
   "source": [
    "### Setup a loss function and an optimizer"
   ]
  },
  {
   "cell_type": "code",
   "execution_count": 12,
   "metadata": {},
   "outputs": [],
   "source": [
    "# Setup a loss function\n",
    "loss_fn = nn.L1Loss()\n",
    "\n",
    "# Setup an optimizer\n",
    "optimizer = torch.optim.SGD(params=model_0.parameters(),\n",
    "\t\t\t\t\t\t\tlr=0.01)"
   ]
  },
  {
   "cell_type": "markdown",
   "metadata": {},
   "source": [
    "### Building a training and testing loop\n",
    "0. Loop through the data\n",
    "1. Forward pass (involves data moving forward through model) to make predictions -> also called **forward propagation**\n",
    "2. Calculate the loss (compare predictions from forward pass to ground truth labels)\n",
    "3. Optimizer zero grad\n",
    "4. Calculate the loss backwards through the neural network to calculate the gredients of each of the parameters of our model with resepct to the loss -> **backpropagation**\n",
    "5. Optimizer step uses the optimizer to adjust model's params to try and improve the loss -> **gradient descent**"
   ]
  },
  {
   "cell_type": "code",
   "execution_count": 92,
   "metadata": {},
   "outputs": [
    {
     "name": "stdout",
     "output_type": "stream",
     "text": [
      "Loss: 0.04272563382983208\n"
     ]
    }
   ],
   "source": [
    "# Epoch is 1 loop through data\n",
    "epochs = 1\n",
    "\n",
    "## Training\n",
    "# 0. Loop through the data\n",
    "for epoch in range(epochs):\n",
    "\n",
    "\t# Set model to training model\n",
    "\tmodel_0.train() # train mode sets all params that require gradients to require gradients\n",
    "\n",
    "\t# 1. Forward pass\n",
    "\ty_pred = model_0(X_train)\n",
    "\n",
    "\t# 2. Calculate the loss\n",
    "\tloss = loss_fn(y_pred, y_train)\n",
    "\tprint(f\"Step: {epoch}, loss: {loss}\")\n",
    "\n",
    "\t# 3. Optimizer zero grad\n",
    "\toptimizer.zero_grad()\n",
    "\n",
    "\t# 4. Perfrom backpropagation on the loss with respect to params of the model\n",
    "\tloss.backward()\n",
    "\n",
    "\t# 5. Step the optimizer (perfrom gradient descent)\n",
    "\toptimizer.step()\n",
    "\n",
    "\n",
    "\t### Testing\n",
    "\tmodel_0.eval() # turns off gradient tracking"
   ]
  },
  {
   "cell_type": "code",
   "execution_count": 109,
   "metadata": {},
   "outputs": [
    {
     "data": {
      "text/plain": [
       "OrderedDict([('weights', tensor([0.3367])), ('bias', tensor([0.1288]))])"
      ]
     },
     "execution_count": 109,
     "metadata": {},
     "output_type": "execute_result"
    }
   ],
   "source": [
    "# Pretraining\n",
    "model_0.state_dict()"
   ]
  },
  {
   "cell_type": "markdown",
   "metadata": {},
   "source": [
    "### Updating the training loop with testing part"
   ]
  },
  {
   "cell_type": "code",
   "execution_count": 118,
   "metadata": {},
   "outputs": [
    {
     "name": "stdout",
     "output_type": "stream",
     "text": [
      "Epoch: 0 | Loss: 0.31288138031959534 | Test loss: 0.48106518387794495\n",
      "Params: OrderedDict([('weights', tensor([0.3406])), ('bias', tensor([0.1388]))])\n",
      "Epoch: 10 | Loss: 0.1976713240146637 | Test loss: 0.3463551998138428\n",
      "Params: OrderedDict([('weights', tensor([0.3796])), ('bias', tensor([0.2388]))])\n",
      "Epoch: 20 | Loss: 0.08908725529909134 | Test loss: 0.21729660034179688\n",
      "Params: OrderedDict([('weights', tensor([0.4184])), ('bias', tensor([0.3333]))])\n",
      "Epoch: 30 | Loss: 0.053148526698350906 | Test loss: 0.14464017748832703\n",
      "Params: OrderedDict([('weights', tensor([0.4512])), ('bias', tensor([0.3768]))])\n",
      "Epoch: 40 | Loss: 0.04543796554207802 | Test loss: 0.11360953003168106\n",
      "Params: OrderedDict([('weights', tensor([0.4748])), ('bias', tensor([0.3868]))])\n",
      "Epoch: 50 | Loss: 0.04167863354086876 | Test loss: 0.09919948130846024\n",
      "Params: OrderedDict([('weights', tensor([0.4938])), ('bias', tensor([0.3843]))])\n",
      "Epoch: 60 | Loss: 0.03818932920694351 | Test loss: 0.08886633068323135\n",
      "Params: OrderedDict([('weights', tensor([0.5116])), ('bias', tensor([0.3788]))])\n",
      "Epoch: 70 | Loss: 0.03476089984178543 | Test loss: 0.0805937647819519\n",
      "Params: OrderedDict([('weights', tensor([0.5288])), ('bias', tensor([0.3718]))])\n",
      "Epoch: 80 | Loss: 0.03132382780313492 | Test loss: 0.07232122868299484\n",
      "Params: OrderedDict([('weights', tensor([0.5459])), ('bias', tensor([0.3648]))])\n",
      "Epoch: 90 | Loss: 0.02788740023970604 | Test loss: 0.06473556160926819\n",
      "Params: OrderedDict([('weights', tensor([0.5629])), ('bias', tensor([0.3573]))])\n",
      "Epoch: 100 | Loss: 0.024458957836031914 | Test loss: 0.05646304413676262\n",
      "Params: OrderedDict([('weights', tensor([0.5800])), ('bias', tensor([0.3503]))])\n"
     ]
    }
   ],
   "source": [
    "# Epoch is 1 loop through data\n",
    "epochs = 100\n",
    "\n",
    "## TRAINING\n",
    "# 0. Loop through the data\n",
    "for epoch in range(epochs+1):\n",
    "\n",
    "\t# Set model to training model\n",
    "\tmodel_0.train() # train mode sets all params that require gradients to require gradients\n",
    "\n",
    "\t# 1. Forward pass\n",
    "\ty_pred = model_0(X_train)\n",
    "\n",
    "\t# 2. Calculate the loss\n",
    "\tloss = loss_fn(y_pred, y_train)\n",
    "\n",
    "\t# 3. Optimizer zero grad\n",
    "\toptimizer.zero_grad()\n",
    "\n",
    "\t# 4. Perfrom backpropagation on the loss with respect to params of the model\n",
    "\tloss.backward()\n",
    "\n",
    "\t# 5. Step the optimizer (perfrom gradient descent)\n",
    "\toptimizer.step()\n",
    "\n",
    "\n",
    "\t### TESTING\n",
    "\tmodel_0.eval() # turns off different settings in the model not needed for the evaluation/testing\n",
    "\twith torch.inference_mode(): # <- turns off gradient tracking & a couple more things\n",
    "\n",
    "\t\t# 1. Do the forward pass\n",
    "\t\ttest_pred = model_0(X_test)\n",
    "\n",
    "\t\t# 2. Calculate the loss\n",
    "\t\ttest_loss = loss_fn(test_pred, y_test)\n",
    "\n",
    "\t# Print out what's happening\n",
    "\tif epoch % 10 == 0:\n",
    "\t\tprint(f\"Epoch: {epoch} | Loss: {loss} | Test loss: {test_loss}\")\n",
    "\t\tprint(f\"Params: {model_0.state_dict()}\")"
   ]
  },
  {
   "cell_type": "code",
   "execution_count": 119,
   "metadata": {},
   "outputs": [
    {
     "data": {
      "image/png": "[encoded data removed]",
      "text/plain": [
       "<Figure size 1000x700 with 1 Axes>"
      ]
     },
     "metadata": {},
     "output_type": "display_data"
    }
   ],
   "source": [
    "# After 100 epochs\n",
    "with torch.inference_mode():\n",
    "\ty_preds_new = model_0(X_test)\n",
    "\n",
    "plot_predictions(predictions=y_preds_new)"
   ]
  },
  {
   "cell_type": "code",
   "execution_count": 122,
   "metadata": {},
   "outputs": [
    {
     "name": "stdout",
     "output_type": "stream",
     "text": [
      "Epoch: 0 | Loss: 0.31288138031959534 | Test loss: 0.48106518387794495\n",
      "Params: OrderedDict([('weights', tensor([0.3406])), ('bias', tensor([0.1388]))])\n",
      "Epoch: 10 | Loss: 0.1976713240146637 | Test loss: 0.3463551998138428\n",
      "Params: OrderedDict([('weights', tensor([0.3796])), ('bias', tensor([0.2388]))])\n",
      "Epoch: 20 | Loss: 0.08908725529909134 | Test loss: 0.21729660034179688\n",
      "Params: OrderedDict([('weights', tensor([0.4184])), ('bias', tensor([0.3333]))])\n",
      "Epoch: 30 | Loss: 0.053148526698350906 | Test loss: 0.14464017748832703\n",
      "Params: OrderedDict([('weights', tensor([0.4512])), ('bias', tensor([0.3768]))])\n",
      "Epoch: 40 | Loss: 0.04543796554207802 | Test loss: 0.11360953003168106\n",
      "Params: OrderedDict([('weights', tensor([0.4748])), ('bias', tensor([0.3868]))])\n",
      "Epoch: 50 | Loss: 0.04167863354086876 | Test loss: 0.09919948130846024\n",
      "Params: OrderedDict([('weights', tensor([0.4938])), ('bias', tensor([0.3843]))])\n",
      "Epoch: 60 | Loss: 0.03818932920694351 | Test loss: 0.08886633068323135\n",
      "Params: OrderedDict([('weights', tensor([0.5116])), ('bias', tensor([0.3788]))])\n",
      "Epoch: 70 | Loss: 0.03476089984178543 | Test loss: 0.0805937647819519\n",
      "Params: OrderedDict([('weights', tensor([0.5288])), ('bias', tensor([0.3718]))])\n",
      "Epoch: 80 | Loss: 0.03132382780313492 | Test loss: 0.07232122868299484\n",
      "Params: OrderedDict([('weights', tensor([0.5459])), ('bias', tensor([0.3648]))])\n",
      "Epoch: 90 | Loss: 0.02788740023970604 | Test loss: 0.06473556160926819\n",
      "Params: OrderedDict([('weights', tensor([0.5629])), ('bias', tensor([0.3573]))])\n",
      "Epoch: 100 | Loss: 0.024458957836031914 | Test loss: 0.05646304413676262\n",
      "Params: OrderedDict([('weights', tensor([0.5800])), ('bias', tensor([0.3503]))])\n",
      "Epoch: 110 | Loss: 0.021020209416747093 | Test loss: 0.04819049686193466\n",
      "Params: OrderedDict([('weights', tensor([0.5972])), ('bias', tensor([0.3433]))])\n",
      "Epoch: 120 | Loss: 0.01758546754717827 | Test loss: 0.04060482233762741\n",
      "Params: OrderedDict([('weights', tensor([0.6141])), ('bias', tensor([0.3358]))])\n",
      "Epoch: 130 | Loss: 0.014155392535030842 | Test loss: 0.03233227878808975\n",
      "Params: OrderedDict([('weights', tensor([0.6313])), ('bias', tensor([0.3288]))])\n",
      "Epoch: 140 | Loss: 0.010716588236391544 | Test loss: 0.024059748277068138\n",
      "Params: OrderedDict([('weights', tensor([0.6485])), ('bias', tensor([0.3218]))])\n",
      "Epoch: 150 | Loss: 0.0072835348546504974 | Test loss: 0.016474086791276932\n",
      "Params: OrderedDict([('weights', tensor([0.6654])), ('bias', tensor([0.3143]))])\n",
      "Epoch: 160 | Loss: 0.003851778106763959 | Test loss: 0.008201557211577892\n",
      "Params: OrderedDict([('weights', tensor([0.6826])), ('bias', tensor([0.3073]))])\n",
      "Epoch: 170 | Loss: 0.00893248151987791 | Test loss: 0.005023092031478882\n",
      "Params: OrderedDict([('weights', tensor([0.6951])), ('bias', tensor([0.2993]))])\n",
      "Epoch: 180 | Loss: 0.00893248151987791 | Test loss: 0.005023092031478882\n",
      "Params: OrderedDict([('weights', tensor([0.6951])), ('bias', tensor([0.2993]))])\n",
      "Epoch: 190 | Loss: 0.00893248151987791 | Test loss: 0.005023092031478882\n",
      "Params: OrderedDict([('weights', tensor([0.6951])), ('bias', tensor([0.2993]))])\n",
      "Epoch: 200 | Loss: 0.00893248151987791 | Test loss: 0.005023092031478882\n",
      "Params: OrderedDict([('weights', tensor([0.6951])), ('bias', tensor([0.2993]))])\n",
      "Epoch: 210 | Loss: 0.00893248151987791 | Test loss: 0.005023092031478882\n",
      "Params: OrderedDict([('weights', tensor([0.6951])), ('bias', tensor([0.2993]))])\n",
      "Epoch: 220 | Loss: 0.00893248151987791 | Test loss: 0.005023092031478882\n",
      "Params: OrderedDict([('weights', tensor([0.6951])), ('bias', tensor([0.2993]))])\n",
      "Epoch: 230 | Loss: 0.00893248151987791 | Test loss: 0.005023092031478882\n",
      "Params: OrderedDict([('weights', tensor([0.6951])), ('bias', tensor([0.2993]))])\n",
      "Epoch: 240 | Loss: 0.00893248151987791 | Test loss: 0.005023092031478882\n",
      "Params: OrderedDict([('weights', tensor([0.6951])), ('bias', tensor([0.2993]))])\n",
      "Epoch: 250 | Loss: 0.00893248151987791 | Test loss: 0.005023092031478882\n",
      "Params: OrderedDict([('weights', tensor([0.6951])), ('bias', tensor([0.2993]))])\n",
      "Epoch: 260 | Loss: 0.00893248151987791 | Test loss: 0.005023092031478882\n",
      "Params: OrderedDict([('weights', tensor([0.6951])), ('bias', tensor([0.2993]))])\n",
      "Epoch: 270 | Loss: 0.00893248151987791 | Test loss: 0.005023092031478882\n",
      "Params: OrderedDict([('weights', tensor([0.6951])), ('bias', tensor([0.2993]))])\n",
      "Epoch: 280 | Loss: 0.00893248151987791 | Test loss: 0.005023092031478882\n",
      "Params: OrderedDict([('weights', tensor([0.6951])), ('bias', tensor([0.2993]))])\n",
      "Epoch: 290 | Loss: 0.00893248151987791 | Test loss: 0.005023092031478882\n",
      "Params: OrderedDict([('weights', tensor([0.6951])), ('bias', tensor([0.2993]))])\n",
      "Epoch: 300 | Loss: 0.00893248151987791 | Test loss: 0.005023092031478882\n",
      "Params: OrderedDict([('weights', tensor([0.6951])), ('bias', tensor([0.2993]))])\n"
     ]
    },
    {
     "data": {
      "image/png": "[encoded data removed]",
      "text/plain": [
       "<Figure size 1000x700 with 1 Axes>"
      ]
     },
     "metadata": {},
     "output_type": "display_data"
    }
   ],
   "source": [
    "# Epoch is 1 loop through data\n",
    "epochs = 300\n",
    "\n",
    "## TRAINING\n",
    "# 0. Loop through the data\n",
    "for epoch in range(epochs+1):\n",
    "\n",
    "\t# Set model to training model\n",
    "\tmodel_0.train() # train mode sets all params that require gradients to require gradients\n",
    "\n",
    "\t# 1. Forward pass\n",
    "\ty_pred = model_0(X_train)\n",
    "\n",
    "\t# 2. Calculate the loss\n",
    "\tloss = loss_fn(y_pred, y_train)\n",
    "\n",
    "\t# 3. Optimizer zero grad\n",
    "\toptimizer.zero_grad()\n",
    "\n",
    "\t# 4. Perfrom backpropagation on the loss with respect to params of the model\n",
    "\tloss.backward()\n",
    "\n",
    "\t# 5. Step the optimizer (perfrom gradient descent)\n",
    "\toptimizer.step()\n",
    "\n",
    "\n",
    "\t### TESTING\n",
    "\tmodel_0.eval() # turns off different settings in the model not needed for the evaluation/testing\n",
    "\twith torch.inference_mode(): # <- turns off gradient tracking & a couple more things\n",
    "\n",
    "\t\t# 1. Do the forward pass\n",
    "\t\ttest_pred = model_0(X_test)\n",
    "\n",
    "\t\t# 2. Calculate the loss\n",
    "\t\ttest_loss = loss_fn(test_pred, y_test)\n",
    "\n",
    "\t# Print out what's happening\n",
    "\tif epoch % 10 == 0:\n",
    "\t\tprint(f\"Epoch: {epoch} | Loss: {loss} | Test loss: {test_loss}\")\n",
    "\t\tprint(f\"Params: {model_0.state_dict()}\")\n",
    "\n",
    "# After 300 epochs\n",
    "with torch.inference_mode():\n",
    "\ty_preds_new = model_0(X_test)\n",
    "\n",
    "plot_predictions(predictions=y_preds_new)"
   ]
  },
  {
   "cell_type": "markdown",
   "metadata": {},
   "source": [
    "### Updating training/testing code with some useful features"
   ]
  },
  {
   "cell_type": "code",
   "execution_count": 18,
   "metadata": {},
   "outputs": [
    {
     "name": "stdout",
     "output_type": "stream",
     "text": [
      "Epoch: 0 | Loss: 0.31288138031959534 | Test loss: 0.48106518387794495\n",
      "Params: OrderedDict([('weights', tensor([0.3406])), ('bias', tensor([0.1388]))])\n",
      "Epoch: 10 | Loss: 0.1976713240146637 | Test loss: 0.3463551998138428\n",
      "Params: OrderedDict([('weights', tensor([0.3796])), ('bias', tensor([0.2388]))])\n",
      "Epoch: 20 | Loss: 0.08908725529909134 | Test loss: 0.21729660034179688\n",
      "Params: OrderedDict([('weights', tensor([0.4184])), ('bias', tensor([0.3333]))])\n",
      "Epoch: 30 | Loss: 0.053148526698350906 | Test loss: 0.14464017748832703\n",
      "Params: OrderedDict([('weights', tensor([0.4512])), ('bias', tensor([0.3768]))])\n",
      "Epoch: 40 | Loss: 0.04543796554207802 | Test loss: 0.11360953003168106\n",
      "Params: OrderedDict([('weights', tensor([0.4748])), ('bias', tensor([0.3868]))])\n",
      "Epoch: 50 | Loss: 0.04167863354086876 | Test loss: 0.09919948130846024\n",
      "Params: OrderedDict([('weights', tensor([0.4938])), ('bias', tensor([0.3843]))])\n",
      "Epoch: 60 | Loss: 0.03818932920694351 | Test loss: 0.08886633068323135\n",
      "Params: OrderedDict([('weights', tensor([0.5116])), ('bias', tensor([0.3788]))])\n",
      "Epoch: 70 | Loss: 0.03476089984178543 | Test loss: 0.0805937647819519\n",
      "Params: OrderedDict([('weights', tensor([0.5288])), ('bias', tensor([0.3718]))])\n",
      "Epoch: 80 | Loss: 0.03132382780313492 | Test loss: 0.07232122868299484\n",
      "Params: OrderedDict([('weights', tensor([0.5459])), ('bias', tensor([0.3648]))])\n",
      "Epoch: 90 | Loss: 0.02788740023970604 | Test loss: 0.06473556160926819\n",
      "Params: OrderedDict([('weights', tensor([0.5629])), ('bias', tensor([0.3573]))])\n",
      "Epoch: 100 | Loss: 0.024458957836031914 | Test loss: 0.05646304413676262\n",
      "Params: OrderedDict([('weights', tensor([0.5800])), ('bias', tensor([0.3503]))])\n",
      "Epoch: 110 | Loss: 0.021020209416747093 | Test loss: 0.04819049686193466\n",
      "Params: OrderedDict([('weights', tensor([0.5972])), ('bias', tensor([0.3433]))])\n",
      "Epoch: 120 | Loss: 0.01758546754717827 | Test loss: 0.04060482233762741\n",
      "Params: OrderedDict([('weights', tensor([0.6141])), ('bias', tensor([0.3358]))])\n",
      "Epoch: 130 | Loss: 0.014155392535030842 | Test loss: 0.03233227878808975\n",
      "Params: OrderedDict([('weights', tensor([0.6313])), ('bias', tensor([0.3288]))])\n",
      "Epoch: 140 | Loss: 0.010716588236391544 | Test loss: 0.024059748277068138\n",
      "Params: OrderedDict([('weights', tensor([0.6485])), ('bias', tensor([0.3218]))])\n",
      "Epoch: 150 | Loss: 0.0072835348546504974 | Test loss: 0.016474086791276932\n",
      "Params: OrderedDict([('weights', tensor([0.6654])), ('bias', tensor([0.3143]))])\n",
      "Epoch: 160 | Loss: 0.003851778106763959 | Test loss: 0.008201557211577892\n",
      "Params: OrderedDict([('weights', tensor([0.6826])), ('bias', tensor([0.3073]))])\n",
      "Epoch: 170 | Loss: 0.00893248151987791 | Test loss: 0.005023092031478882\n",
      "Params: OrderedDict([('weights', tensor([0.6951])), ('bias', tensor([0.2993]))])\n",
      "Epoch: 180 | Loss: 0.00893248151987791 | Test loss: 0.005023092031478882\n",
      "Params: OrderedDict([('weights', tensor([0.6951])), ('bias', tensor([0.2993]))])\n",
      "Epoch: 190 | Loss: 0.00893248151987791 | Test loss: 0.005023092031478882\n",
      "Params: OrderedDict([('weights', tensor([0.6951])), ('bias', tensor([0.2993]))])\n",
      "Epoch: 200 | Loss: 0.00893248151987791 | Test loss: 0.005023092031478882\n",
      "Params: OrderedDict([('weights', tensor([0.6951])), ('bias', tensor([0.2993]))])\n"
     ]
    }
   ],
   "source": [
    "# Epoch is 1 loop through data\n",
    "epochs = 200\n",
    "\n",
    "# Track different values\n",
    "epoch_count = []\n",
    "loss_values = []\n",
    "test_loss_values = []\n",
    "\n",
    "## TRAINING\n",
    "# 0. Loop through the data\n",
    "for epoch in range(epochs+1):\n",
    "\n",
    "\t# Set model to training model\n",
    "\tmodel_0.train() # train mode sets all params that require gradients to require gradients\n",
    "\n",
    "\t# 1. Forward pass\n",
    "\ty_pred = model_0(X_train)\n",
    "\n",
    "\t# 2. Calculate the loss\n",
    "\tloss = loss_fn(y_pred, y_train)\n",
    "\n",
    "\t# 3. Optimizer zero grad\n",
    "\toptimizer.zero_grad()\n",
    "\n",
    "\t# 4. Perfrom backpropagation on the loss with respect to params of the model\n",
    "\tloss.backward()\n",
    "\n",
    "\t# 5. Step the optimizer (perfrom gradient descent)\n",
    "\toptimizer.step()\n",
    "\n",
    "\n",
    "\t### TESTING\n",
    "\tmodel_0.eval() # turns off different settings in the model not needed for the evaluation/testing\n",
    "\twith torch.inference_mode(): # <- turns off gradient tracking & a couple more things\n",
    "\n",
    "\t\t# 1. Do the forward pass\n",
    "\t\ttest_pred = model_0(X_test)\n",
    "\n",
    "\t\t# 2. Calculate the loss\n",
    "\t\ttest_loss = loss_fn(test_pred, y_test)\n",
    "\n",
    "\t# Print out what's happening\n",
    "\tif epoch % 10 == 0:\n",
    "\t\tepoch_count.append(epoch)\n",
    "\t\tloss_values.append(loss)\n",
    "\t\ttest_loss_values.append(test_loss)\n",
    "\t\t\n",
    "\t\tprint(f\"Epoch: {epoch} | Loss: {loss} | Test loss: {test_loss}\")\n",
    "\t\tprint(f\"Params: {model_0.state_dict()}\")"
   ]
  },
  {
   "cell_type": "code",
   "execution_count": 19,
   "metadata": {},
   "outputs": [
    {
     "data": {
      "image/png": "[encoded data removed]",
      "text/plain": [
       "<Figure size 1000x700 with 1 Axes>"
      ]
     },
     "metadata": {},
     "output_type": "display_data"
    }
   ],
   "source": [
    "with torch.inference_mode():\n",
    "\ty_preds_new = model_0(X_test)\n",
    "\n",
    "plot_predictions(predictions=y_preds_new)"
   ]
  },
  {
   "cell_type": "code",
   "execution_count": 137,
   "metadata": {},
   "outputs": [
    {
     "data": {
      "text/plain": [
       "<matplotlib.legend.Legend at 0x163a6e150>"
      ]
     },
     "execution_count": 137,
     "metadata": {},
     "output_type": "execute_result"
    },
    {
     "data": {
      "image/png": "[encoded data removed]",
      "text/plain": [
       "<Figure size 640x480 with 1 Axes>"
      ]
     },
     "metadata": {},
     "output_type": "display_data"
    }
   ],
   "source": [
    "# Plot loss curves\n",
    "import numpy as np\n",
    "plt.plot(epoch_count, np.array(torch.tensor(loss_values).numpy()), label='Train loss')\n",
    "plt.plot(epoch_count, test_loss_values, label=\"Test loss\")\n",
    "plt.ylabel(\"Loss\")\n",
    "plt.xlabel(\"Epoch\")\n",
    "plt.title(\"Training and test loss curves\")\n",
    "plt.legend()"
   ]
  },
  {
   "cell_type": "markdown",
   "metadata": {},
   "source": [
    "## Saving a model in PyTorch\n",
    "There are 3 main methods:\n",
    "1. `torch.save()` allows to save PyTorch object in Python's pickle format\n",
    "2. `torch.load()` allows to load a saved PyTorch object\n",
    "3. `torch.nn.Module.load_state_dict()` allows to load model's saved state dictionary"
   ]
  },
  {
   "cell_type": "code",
   "execution_count": 20,
   "metadata": {},
   "outputs": [
    {
     "name": "stdout",
     "output_type": "stream",
     "text": [
      "Saving model to models/01_pytorch_workflow_model.pth\n"
     ]
    }
   ],
   "source": [
    "# Saving our PyTorch model\n",
    "from pathlib import Path\n",
    "\n",
    "# 1. Create model directory\n",
    "MODEL_PATH = Path(\"models\")\n",
    "MODEL_PATH.mkdir(parents=True, exist_ok=True)\n",
    "\n",
    "# 2. Create model save path\n",
    "MODEL_NAME = \"01_pytorch_workflow_model.pth\"\n",
    "MODEL_SAVE_PATH = MODEL_PATH / MODEL_NAME\n",
    "\n",
    "# 3. Save the model state dict\n",
    "print(f\"Saving model to {MODEL_SAVE_PATH}\")\n",
    "torch.save(obj=model_0.state_dict(), f=MODEL_SAVE_PATH)"
   ]
  },
  {
   "cell_type": "markdown",
   "metadata": {},
   "source": [
    "## Loading a PyTorch model\n",
    "Since we've saved model's `state_dict()`, we'll create a new instance of our model class and load the saved `state_dict()` into that."
   ]
  },
  {
   "cell_type": "code",
   "execution_count": 21,
   "metadata": {},
   "outputs": [
    {
     "data": {
      "text/plain": [
       "OrderedDict([('weights', tensor([0.6951])), ('bias', tensor([0.2993]))])"
      ]
     },
     "execution_count": 21,
     "metadata": {},
     "output_type": "execute_result"
    }
   ],
   "source": [
    "# To load in a saved state_dict, we have to instentiate\n",
    "# a new instance of our class model\n",
    "loaded_model_0 = LinearRegressionModel()\n",
    "\n",
    "# Loaded the saved state_dict\n",
    "loaded_model_0.load_state_dict(torch.load(f=MODEL_SAVE_PATH))\n",
    "loaded_model_0.state_dict()"
   ]
  },
  {
   "cell_type": "markdown",
   "metadata": {},
   "source": [
    "## 6. Putting it all together\n",
    "Let's go back through the steps above and see it all in one place"
   ]
  },
  {
   "cell_type": "code",
   "execution_count": 27,
   "metadata": {},
   "outputs": [
    {
     "data": {
      "text/plain": [
       "'2.0.0.post3'"
      ]
     },
     "execution_count": 27,
     "metadata": {},
     "output_type": "execute_result"
    }
   ],
   "source": [
    "# Import PyTorch and matplotlib\n",
    "import torch\n",
    "from torch import nn\n",
    "import matplotlib.pyplot as plt\n",
    "\n",
    "# Check PyTorch version\n",
    "torch.__version__"
   ]
  },
  {
   "cell_type": "code",
   "execution_count": 28,
   "metadata": {},
   "outputs": [
    {
     "name": "stdout",
     "output_type": "stream",
     "text": [
      "Using device: mps\n"
     ]
    }
   ],
   "source": [
    "# Setup device agnostic code \n",
    "device = \"mps\" if torch.backends.mps.is_available() else \"cpu\"\n",
    "print(f\"Using device: {device}\")"
   ]
  },
  {
   "cell_type": "markdown",
   "metadata": {},
   "source": [
    "### 6.1 Data"
   ]
  },
  {
   "cell_type": "code",
   "execution_count": 73,
   "metadata": {},
   "outputs": [
    {
     "data": {
      "text/plain": [
       "(tensor([[0.0000],\n",
       "         [0.0200],\n",
       "         [0.0400],\n",
       "         [0.0600],\n",
       "         [0.0800]]),\n",
       " tensor([[0.3000],\n",
       "         [0.3140],\n",
       "         [0.3280],\n",
       "         [0.3420],\n",
       "         [0.3560]]))"
      ]
     },
     "execution_count": 73,
     "metadata": {},
     "output_type": "execute_result"
    }
   ],
   "source": [
    "# Create data using linear regression: y=ax+b\n",
    "weight = 0.7\n",
    "bias = 0.3\n",
    "\n",
    "# Create range values\n",
    "start = 0\n",
    "end = 1\n",
    "step = 0.02\n",
    "\n",
    "# Create X and y (features and labels)\n",
    "X = torch.arange(start, end, step).unsqueeze(dim=1) # without unsqueeze, dimensionality errors may pop out\n",
    "y = weight * X + bias\n",
    "X[:5], y[:5]"
   ]
  },
  {
   "cell_type": "code",
   "execution_count": 74,
   "metadata": {},
   "outputs": [
    {
     "data": {
      "text/plain": [
       "(40, 40, 10, 10)"
      ]
     },
     "execution_count": 74,
     "metadata": {},
     "output_type": "execute_result"
    }
   ],
   "source": [
    "# Split the data\n",
    "train_split = int(0.8 * len(X))\n",
    "X_train, y_train = X[:train_split], y[:train_split]\n",
    "X_test, y_test = X[train_split:], y[train_split:]\n",
    "len(X_train), len(y_train), len(X_test), len(y_test)"
   ]
  },
  {
   "cell_type": "code",
   "execution_count": 75,
   "metadata": {},
   "outputs": [
    {
     "data": {
      "image/png": "[encoded data removed]",
      "text/plain": [
       "<Figure size 1000x700 with 1 Axes>"
      ]
     },
     "metadata": {},
     "output_type": "display_data"
    }
   ],
   "source": [
    "# Plot the data\n",
    "plot_predictions(X_train, y_train, X_test, y_test)"
   ]
  },
  {
   "cell_type": "markdown",
   "metadata": {},
   "source": [
    "### 6.2 Building a PyTorch linear model"
   ]
  },
  {
   "cell_type": "code",
   "execution_count": 84,
   "metadata": {},
   "outputs": [
    {
     "data": {
      "text/plain": [
       "(LinearRegressionModelV2(\n",
       "   (linear_layer): Linear(in_features=1, out_features=1, bias=True)\n",
       " ),\n",
       " OrderedDict([('linear_layer.weight', tensor([[0.7645]])),\n",
       "              ('linear_layer.bias', tensor([0.8300]))]))"
      ]
     },
     "execution_count": 84,
     "metadata": {},
     "output_type": "execute_result"
    }
   ],
   "source": [
    "# Create a linear model bu subclassing nn.Module\n",
    "class LinearRegressionModelV2(nn.Module):\n",
    "\tdef __init__(self):\n",
    "\t\tsuper().__init__()\n",
    "\n",
    "\t\t# Use nn.Linear() for creating the model parameters / equivalent of Dense layer from TensorFlow\n",
    "\t\tself.linear_layer = nn.Linear(in_features=1, # data in\n",
    "\t\t\t\t\t\t\t\tout_features=1)\t\t # data out\n",
    "\t\n",
    "\tdef forward(self, x: torch.Tensor) -> torch.Tensor:\n",
    "\t\treturn self.linear_layer(x)\n",
    "\n",
    "# Set random seed\n",
    "torch.manual_seed(42)\n",
    "model_1 = LinearRegressionModelV2()\n",
    "model_1, model_1.state_dict()\n"
   ]
  },
  {
   "cell_type": "code",
   "execution_count": 85,
   "metadata": {},
   "outputs": [
    {
     "data": {
      "text/plain": [
       "device(type='cpu')"
      ]
     },
     "execution_count": 85,
     "metadata": {},
     "output_type": "execute_result"
    }
   ],
   "source": [
    "# Check the model current device\n",
    "next(model_1.parameters()).device"
   ]
  },
  {
   "cell_type": "code",
   "execution_count": 86,
   "metadata": {},
   "outputs": [
    {
     "data": {
      "text/plain": [
       "device(type='mps', index=0)"
      ]
     },
     "execution_count": 86,
     "metadata": {},
     "output_type": "execute_result"
    }
   ],
   "source": [
    "# Set the model to use the target device\n",
    "model_1.to(device)\n",
    "next(model_1.parameters()).device"
   ]
  },
  {
   "cell_type": "markdown",
   "metadata": {},
   "source": [
    "## 6.3 Training\n",
    "Needed are: \n",
    "* loss function\n",
    "* optimizer\n",
    "* training loop\n",
    "* testing loop"
   ]
  },
  {
   "cell_type": "code",
   "execution_count": 87,
   "metadata": {},
   "outputs": [],
   "source": [
    "# Setup loss function\n",
    "loss_fn == nn.L1Loss() # same as MAE\n",
    "\n",
    "# Setup optimizer\n",
    "optimizer = torch.optim.SGD(params=model_1.parameters(),\n",
    "\t\t\t\t\t\t\tlr=0.01)"
   ]
  },
  {
   "cell_type": "code",
   "execution_count": 88,
   "metadata": {},
   "outputs": [
    {
     "name": "stdout",
     "output_type": "stream",
     "text": [
      "Epoch: 0 | Loss: 0.5551779270172119 | Training loss: 0.5739762783050537\n",
      "Epoch: 10 | Loss: 0.4399681091308594 | Training loss: 0.4392664134502411\n",
      "Epoch: 20 | Loss: 0.3247582018375397 | Training loss: 0.30455657839775085\n",
      "Epoch: 30 | Loss: 0.20954833924770355 | Training loss: 0.16984672844409943\n",
      "Epoch: 40 | Loss: 0.09433844685554504 | Training loss: 0.03513689711689949\n",
      "Epoch: 50 | Loss: 0.023886388167738914 | Training loss: 0.04784906655550003\n",
      "Epoch: 60 | Loss: 0.0199567973613739 | Training loss: 0.04580312594771385\n",
      "Epoch: 70 | Loss: 0.016517987474799156 | Training loss: 0.0375305712223053\n",
      "Epoch: 80 | Loss: 0.01308917161077261 | Training loss: 0.029944902285933495\n",
      "Epoch: 90 | Loss: 0.009653176181018353 | Training loss: 0.02167237363755703\n",
      "Epoch: 100 | Loss: 0.0062156799249351025 | Training loss: 0.014086711220443249\n",
      "Epoch: 110 | Loss: 0.00278724217787385 | Training loss: 0.005814164876937866\n",
      "Epoch: 120 | Loss: 0.0012645028764382005 | Training loss: 0.013801807537674904\n",
      "Epoch: 130 | Loss: 0.0012645028764382005 | Training loss: 0.013801807537674904\n",
      "Epoch: 140 | Loss: 0.0012645028764382005 | Training loss: 0.013801807537674904\n",
      "Epoch: 150 | Loss: 0.0012645028764382005 | Training loss: 0.013801807537674904\n",
      "Epoch: 160 | Loss: 0.0012645028764382005 | Training loss: 0.013801807537674904\n",
      "Epoch: 170 | Loss: 0.0012645028764382005 | Training loss: 0.013801807537674904\n",
      "Epoch: 180 | Loss: 0.0012645028764382005 | Training loss: 0.013801807537674904\n",
      "Epoch: 190 | Loss: 0.0012645028764382005 | Training loss: 0.013801807537674904\n",
      "Epoch: 200 | Loss: 0.0012645028764382005 | Training loss: 0.013801807537674904\n"
     ]
    }
   ],
   "source": [
    "# Create training loop\n",
    "torch.manual_seed(42)\n",
    "\n",
    "epochs = 200\n",
    "\n",
    "# Put data on the target device (device agnostic code)\n",
    "X_train = X_train.to(device)\n",
    "y_train = y_train.to(device)\n",
    "X_test = X_test.to(device)\n",
    "y_test = y_test.to(device)\n",
    "\n",
    "for epoch in range(epochs+1):\n",
    "\tmodel_1.train()\n",
    "\n",
    "\t# Forward pass\n",
    "\ty_pred = model_1(X_train)\n",
    "\n",
    "\t# Calculate the loss\n",
    "\tloss = loss_fn(y_pred, y_train)\n",
    "\n",
    "\t# Optimizer zero grad\n",
    "\toptimizer.zero_grad()\n",
    "\n",
    "\t# Backpropagation\n",
    "\tloss.backward()\n",
    "\n",
    "\t# Optimizer step\n",
    "\toptimizer.step()\n",
    "\n",
    "\t## Testing\n",
    "\tmodel_1.eval()\n",
    "\twith torch.inference_mode():\n",
    "\t\ttest_pred = model_1(X_test)\n",
    "\t\ttest_loss = loss_fn(test_pred, y_test)\n",
    "\t\n",
    "\tif epoch % 10 == 0:\n",
    "\t\tprint(f\"Epoch: {epoch} | Loss: {loss} | Training loss: {test_loss}\")"
   ]
  },
  {
   "cell_type": "code",
   "execution_count": 89,
   "metadata": {},
   "outputs": [
    {
     "data": {
      "text/plain": [
       "OrderedDict([('linear_layer.weight', tensor([[0.6929]], device='mps:0')),\n",
       "             ('linear_layer.bias', tensor([0.2925], device='mps:0'))])"
      ]
     },
     "execution_count": 89,
     "metadata": {},
     "output_type": "execute_result"
    }
   ],
   "source": [
    "model_1.state_dict()"
   ]
  },
  {
   "cell_type": "code",
   "execution_count": 90,
   "metadata": {},
   "outputs": [
    {
     "data": {
      "text/plain": [
       "(0.7, 0.3)"
      ]
     },
     "execution_count": 90,
     "metadata": {},
     "output_type": "execute_result"
    }
   ],
   "source": [
    "weight, bias"
   ]
  },
  {
   "cell_type": "markdown",
   "metadata": {},
   "source": [
    "### 6.4 Making and evaluating predictions"
   ]
  },
  {
   "cell_type": "code",
   "execution_count": 91,
   "metadata": {},
   "outputs": [
    {
     "data": {
      "image/png": "[encoded data removed]",
      "text/plain": [
       "<Figure size 1000x700 with 1 Axes>"
      ]
     },
     "metadata": {},
     "output_type": "display_data"
    }
   ],
   "source": [
    "# Plot predictions\n",
    "model_1.eval()\n",
    "\n",
    "with torch.inference_mode():\n",
    "\ty_preds = model_1(X_test)\n",
    "\t\n",
    "plot_predictions(predictions=y_preds.cpu())"
   ]
  },
  {
   "cell_type": "markdown",
   "metadata": {},
   "source": [
    "### 6.5 Saving and loading a trained model"
   ]
  },
  {
   "cell_type": "code",
   "execution_count": 93,
   "metadata": {},
   "outputs": [
    {
     "name": "stdout",
     "output_type": "stream",
     "text": [
      "Saving model to: models/01_pytorch_workflow_model_1.pth\n"
     ]
    }
   ],
   "source": [
    "from pathlib import Path\n",
    "\n",
    "# Create models directory\n",
    "MODEL_PATH = Path(\"models\")\n",
    "MODEL_PATH.mkdir(parents=True, exist_ok=True)\n",
    "\n",
    "# Create model save path\n",
    "MODEL_NAME = \"01_pytorch_workflow_model_1.pth\"\n",
    "MODEL_SAVE_PATH = MODEL_PATH / MODEL_NAME\n",
    "\n",
    "# Save model's state dict\n",
    "print(f\"Saving model to: {MODEL_SAVE_PATH}\")\n",
    "torch.save(obj=model_1.state_dict(),\n",
    "\t\t   f=MODEL_SAVE_PATH)"
   ]
  },
  {
   "cell_type": "code",
   "execution_count": 94,
   "metadata": {},
   "outputs": [
    {
     "data": {
      "text/plain": [
       "LinearRegressionModelV2(\n",
       "  (linear_layer): Linear(in_features=1, out_features=1, bias=True)\n",
       ")"
      ]
     },
     "execution_count": 94,
     "metadata": {},
     "output_type": "execute_result"
    }
   ],
   "source": [
    "# Load a PyTorch module\n",
    "# Create a new instance of LinearRegressionModelV2\n",
    "loaded_model_1 = LinearRegressionModelV2()\n",
    "\n",
    "# Load the saved model's state dict\n",
    "loaded_model_1.load_state_dict(torch.load(MODEL_SAVE_PATH))\n",
    "\n",
    "# Put the loaded model to device\n",
    "loaded_model_1.to(device)"
   ]
  },
  {
   "cell_type": "code",
   "execution_count": 95,
   "metadata": {},
   "outputs": [
    {
     "data": {
      "text/plain": [
       "(device(type='mps', index=0),\n",
       " OrderedDict([('linear_layer.weight', tensor([[0.6929]], device='mps:0')),\n",
       "              ('linear_layer.bias', tensor([0.2925], device='mps:0'))]))"
      ]
     },
     "execution_count": 95,
     "metadata": {},
     "output_type": "execute_result"
    }
   ],
   "source": [
    "next(loaded_model_1.parameters()).device, loaded_model_1.state_dict()"
   ]
  },
  {
   "cell_type": "code",
   "execution_count": 96,
   "metadata": {},
   "outputs": [
    {
     "data": {
      "text/plain": [
       "tensor([[True],\n",
       "        [True],\n",
       "        [True],\n",
       "        [True],\n",
       "        [True],\n",
       "        [True],\n",
       "        [True],\n",
       "        [True],\n",
       "        [True],\n",
       "        [True]], device='mps:0')"
      ]
     },
     "execution_count": 96,
     "metadata": {},
     "output_type": "execute_result"
    }
   ],
   "source": [
    "# Evaluate loaded model\n",
    "loaded_model_1.eval()\n",
    "with torch.inference_mode():\n",
    "\tloaded_model_1_preds = loaded_model_1(X_test)\n",
    "\n",
    "y_preds == loaded_model_1_preds"
   ]
  }
 ],
 "metadata": {
  "kernelspec": {
   "display_name": "pytorch",
   "language": "python",
   "name": "python3"
  },
  "language_info": {
   "codemirror_mode": {
    "name": "ipython",
    "version": 3
   },
   "file_extension": ".py",
   "mimetype": "text/x-python",
   "name": "python",
   "nbconvert_exporter": "python",
   "pygments_lexer": "ipython3",
   "version": "3.11.6"
  }
 },
 "nbformat": 4,
 "nbformat_minor": 2
}
